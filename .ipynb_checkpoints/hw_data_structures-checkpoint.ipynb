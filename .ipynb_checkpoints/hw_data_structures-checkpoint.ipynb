{
 "cells": [
  {
   "cell_type": "markdown",
   "metadata": {},
   "source": [
    "### Homework"
   ]
  },
  {
   "cell_type": "markdown",
   "metadata": {},
   "source": [
    "Solve this in a new Jupyter notebook, and then upload it to GitHub. Name the notebook as 'hw_data_structures'."
   ]
  },
  {
   "cell_type": "code",
   "execution_count": 5,
   "metadata": {
    "scrolled": true
   },
   "outputs": [
    {
     "data": {
      "text/html": [
       "<div>\n",
       "<style scoped>\n",
       "    .dataframe tbody tr th:only-of-type {\n",
       "        vertical-align: middle;\n",
       "    }\n",
       "\n",
       "    .dataframe tbody tr th {\n",
       "        vertical-align: top;\n",
       "    }\n",
       "\n",
       "    .dataframe thead th {\n",
       "        text-align: right;\n",
       "    }\n",
       "</style>\n",
       "<table border=\"1\" class=\"dataframe\">\n",
       "  <thead>\n",
       "    <tr style=\"text-align: right;\">\n",
       "      <th></th>\n",
       "      <th>names</th>\n",
       "      <th>woman</th>\n",
       "      <th>ages</th>\n",
       "      <th>country</th>\n",
       "      <th>education</th>\n",
       "    </tr>\n",
       "  </thead>\n",
       "  <tbody>\n",
       "    <tr>\n",
       "      <th>0</th>\n",
       "      <td>Thomas</td>\n",
       "      <td>False</td>\n",
       "      <td>32</td>\n",
       "      <td>Chile</td>\n",
       "      <td>Bach</td>\n",
       "    </tr>\n",
       "    <tr>\n",
       "      <th>1</th>\n",
       "      <td>Pauline</td>\n",
       "      <td>True</td>\n",
       "      <td>33</td>\n",
       "      <td>Senegal</td>\n",
       "      <td>Bach</td>\n",
       "    </tr>\n",
       "    <tr>\n",
       "      <th>2</th>\n",
       "      <td>Pablo</td>\n",
       "      <td>False</td>\n",
       "      <td>28</td>\n",
       "      <td>Spain</td>\n",
       "      <td>Master</td>\n",
       "    </tr>\n",
       "    <tr>\n",
       "      <th>3</th>\n",
       "      <td>Bjork</td>\n",
       "      <td>False</td>\n",
       "      <td>30</td>\n",
       "      <td>Norway</td>\n",
       "      <td>PhD</td>\n",
       "    </tr>\n",
       "    <tr>\n",
       "      <th>4</th>\n",
       "      <td>Alan</td>\n",
       "      <td>False</td>\n",
       "      <td>32</td>\n",
       "      <td>Peru</td>\n",
       "      <td>Bach</td>\n",
       "    </tr>\n",
       "    <tr>\n",
       "      <th>5</th>\n",
       "      <td>Juana</td>\n",
       "      <td>True</td>\n",
       "      <td>27</td>\n",
       "      <td>Peru</td>\n",
       "      <td>Master</td>\n",
       "    </tr>\n",
       "  </tbody>\n",
       "</table>\n",
       "</div>"
      ],
      "text/plain": [
       "     names  woman  ages  country education\n",
       "0   Thomas  False    32    Chile      Bach\n",
       "1  Pauline   True    33  Senegal      Bach\n",
       "2    Pablo  False    28    Spain    Master\n",
       "3    Bjork  False    30   Norway       PhD\n",
       "4     Alan  False    32     Peru      Bach\n",
       "5    Juana   True    27     Peru    Master"
      ]
     },
     "execution_count": 5,
     "metadata": {},
     "output_type": "execute_result"
    }
   ],
   "source": [
    "import pandas\n",
    "\n",
    "names=[\"Thomas\", \"Pauline\", \"Pablo\", \"Bjork\", \"Alan\", \"Juana\"]\n",
    "woman=[False, True, False, False, False, True]\n",
    "ages=[32,33,28,30,32,27]\n",
    "country=[\"Chile\", \"Senegal\", \"Spain\", \"Norway\", \"Peru\", \"Peru\"]\n",
    "education=[\"Bach\", \"Bach\", \"Master\", \"PhD\", \"Bach\", \"Master\"]\n",
    "\n",
    "#Turning above into dict and giving it the name 'data'\n",
    "data={'names':names, 'woman':woman, 'ages':ages, 'country':country, 'education':education}\n",
    "data\n",
    "\n",
    "#Now creating a data frame\n",
    "friends=pandas.DataFrame.from_dict(data)\n",
    "\n",
    "#Now we want to see how it looks\n",
    "friends\n"
   ]
  },
  {
   "cell_type": "markdown",
   "metadata": {},
   "source": [
    "If you have the query:"
   ]
  },
  {
   "cell_type": "code",
   "execution_count": null,
   "metadata": {},
   "outputs": [],
   "source": [
    "# where is the youngest male in the group from?"
   ]
  },
  {
   "cell_type": "markdown",
   "metadata": {},
   "source": [
    "a. Find the answer using *sort_values()*\n",
    "\n",
    "b. Do some research and find the answer using *[where()](https://pandas.pydata.org/pandas-docs/stable/generated/pandas.DataFrame.where.html)* and *[min()](https://pandas.pydata.org/pandas-docs/stable/generated/pandas.DataFrame.min.html)*\n",
    "\n",
    "c. Do some research and find the answer using *[query()](https://pandas.pydata.org/pandas-docs/stable/generated/pandas.DataFrame.query.html)* and *[min()](https://pandas.pydata.org/pandas-docs/stable/generated/pandas.DataFrame.min.html)*"
   ]
  },
  {
   "cell_type": "markdown",
   "metadata": {},
   "source": [
    "Solve this in a new Jupyter notebook, and then upload it to GitHub. Name the notebook as 'hw_data_structures'."
   ]
  }
 ],
 "metadata": {
  "kernelspec": {
   "display_name": "Python 3",
   "language": "python",
   "name": "python3"
  },
  "language_info": {
   "codemirror_mode": {
    "name": "ipython",
    "version": 3
   },
   "file_extension": ".py",
   "mimetype": "text/x-python",
   "name": "python",
   "nbconvert_exporter": "python",
   "pygments_lexer": "ipython3",
   "version": "3.7.1"
  }
 },
 "nbformat": 4,
 "nbformat_minor": 2
}
